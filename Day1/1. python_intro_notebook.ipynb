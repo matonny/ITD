{
 "cells": [
  {
   "cell_type": "markdown",
   "metadata": {},
   "source": [
    "## Intro to Python\n",
    "\n",
    "Great to have you here. Let's start by repeating a few ideas from the lecture. If you are not really sure about the first few cells, please go back to the lecture slides or recordings (or ask your tutor).\n",
    "\n",
    "Press `Run` in the menu above or simply use the keys `Shift+Enter` to have the following command processed. First, click to select!"
   ]
  },
  {
   "cell_type": "code",
   "execution_count": null,
   "metadata": {},
   "outputs": [],
   "source": [
    "print(\"Hello, World!\")"
   ]
  },
  {
   "cell_type": "markdown",
   "metadata": {},
   "source": [
    "There are two types of cells *Markdown* cells that contain text like this one, and *Code* cells that contain the program code. The next is unfortunately a *Markdown* cell, but should be *Code*!\n",
    "\n",
    "In the menu above, you can change it from *Markdown* into *Code*! Then you can run the cell. "
   ]
  },
  {
   "cell_type": "markdown",
   "metadata": {},
   "source": [
    "print('Well done!')"
   ]
  },
  {
   "cell_type": "markdown",
   "metadata": {},
   "source": [
    "You can also do \"Esc+y\" to switch from *Markdown* to *Code* and \"Esc+m\" to go from *Code* to *Markdown*.\n",
    "\n",
    "Now back to some code. (use `Shift+Enter`)"
   ]
  },
  {
   "cell_type": "code",
   "execution_count": null,
   "metadata": {},
   "outputs": [],
   "source": [
    "17+1"
   ]
  },
  {
   "cell_type": "markdown",
   "metadata": {},
   "source": [
    "Running the next cell does not show a result, but the notebook kernel will remember that the variable *n* is now 17. "
   ]
  },
  {
   "cell_type": "code",
   "execution_count": null,
   "metadata": {},
   "outputs": [],
   "source": [
    "DateToday=22"
   ]
  },
  {
   "cell_type": "markdown",
   "metadata": {},
   "source": [
    "You can check this:"
   ]
  },
  {
   "cell_type": "code",
   "execution_count": null,
   "metadata": {},
   "outputs": [],
   "source": [
    "print(DateToday)"
   ]
  },
  {
   "cell_type": "markdown",
   "metadata": {},
   "source": [
    "From what you know about maths the next cell may look weird. Use `Ctrl+Enter` to run it a few times. (Click to select! And scroll!)"
   ]
  },
  {
   "cell_type": "code",
   "execution_count": null,
   "metadata": {},
   "outputs": [],
   "source": [
    "DateToday=DateToday+1\n",
    "print(DateToday)"
   ]
  },
  {
   "cell_type": "markdown",
   "metadata": {},
   "source": [
    "*DateToday* is just a place where the kernel keeps a value, and we were telling: *Add 1 to this value (repeat)*"
   ]
  },
  {
   "cell_type": "markdown",
   "metadata": {},
   "source": [
    "Can we make the notebook kernel forget the value of *DateToday*? Sure."
   ]
  },
  {
   "cell_type": "code",
   "execution_count": null,
   "metadata": {},
   "outputs": [],
   "source": [
    "del DateToday\n",
    "print(DateToday)"
   ]
  },
  {
   "cell_type": "markdown",
   "metadata": {},
   "source": [
    "We can call this: __Task failed successfully__. Now for something completely different."
   ]
  },
  {
   "cell_type": "markdown",
   "metadata": {},
   "source": [
    "## Loops"
   ]
  },
  {
   "cell_type": "code",
   "execution_count": null,
   "metadata": {},
   "outputs": [],
   "source": [
    "n=2"
   ]
  },
  {
   "cell_type": "markdown",
   "metadata": {},
   "source": [
    "Run the next cell a few times using `Ctrl+Enter`. How many times can you repeat this? (You can go back to the previous cell to restart.)"
   ]
  },
  {
   "cell_type": "code",
   "execution_count": null,
   "metadata": {},
   "outputs": [],
   "source": [
    "n=n*n\n",
    "print(\"n =\",n)"
   ]
  },
  {
   "cell_type": "markdown",
   "metadata": {},
   "source": [
    "You will notice that it takes longer and longer to compute these ridiculously large numbers. If it takes too long, go to `Kernel` above, and choose and confirm `restart`. "
   ]
  },
  {
   "cell_type": "markdown",
   "metadata": {},
   "source": [
    "We could have told from the beginning that we want to run this bit for, say, five times."
   ]
  },
  {
   "cell_type": "code",
   "execution_count": null,
   "metadata": {},
   "outputs": [],
   "source": [
    "n=2                        # This is a comment telling you that this is the initialisation step \n",
    "for i in range(5):         # The i is a new variable just for counting\n",
    "    n=n*n                  # Now the command is performed while i counts to 5\n",
    "print(n)                   # Commands are ignored by the notebook kernel "
   ]
  },
  {
   "cell_type": "markdown",
   "metadata": {},
   "source": [
    "This is called a *loop*. __Do not replace the 5 by a 500 in the previous cell!__ __And if you do, don't run it!__"
   ]
  },
  {
   "cell_type": "markdown",
   "metadata": {},
   "source": [
    "¸„.-•~¹°”ˆ˜¨¨˜ˆ”°¹~•-.„¸¸¸„.-•~¹°”ˆ˜¨¨˜ˆ”°¹~•-.„¸¸¸„.-•~¹°”ˆ˜¨¨˜ˆ”°¹~•-.„¸¸¸„.-•~¹°”ˆ˜¨¨˜ˆ”°¹~•-.„¸"
   ]
  },
  {
   "cell_type": "markdown",
   "metadata": {},
   "source": [
    "You did it anyway? Why? Well, you should know how to restart the kernel. "
   ]
  },
  {
   "cell_type": "markdown",
   "metadata": {},
   "source": [
    "If you didn't, sorry, but you will need to understand that programming is very much about __you just give it a try__. Unless any robots or missiles are connected to your notebook, and you have a backup of all your data. The worst that can happen is that you need to close the page and to download the original notebook again.\n",
    "\n",
    "You can also choose to set a checkpoint (under `File` above) before any *experiment* and revert to this checkpoint in case of failure."
   ]
  },
  {
   "cell_type": "markdown",
   "metadata": {},
   "source": [
    "A fine point about the counter, the _i_ in the previous *Code* cell:"
   ]
  },
  {
   "cell_type": "code",
   "execution_count": null,
   "metadata": {},
   "outputs": [],
   "source": [
    "n=2                       \n",
    "for i in range(5):\n",
    "    print(\"i =\",i)                  # we try to have a look what the i is doing\n",
    "    #n=n*n                    # Now we are not interested in the n, and we can comment it out. \n",
    "print(\"n =\",n)                   "
   ]
  },
  {
   "cell_type": "markdown",
   "metadata": {},
   "source": [
    "Three things to note:\n",
    "\n",
    "1. The indentation is really important. Try moving *print(i)* to the left! What happens? \n",
    "\n",
    "    Can you get it back in place? Great. Otherwise, restart (see above) "
   ]
  },
  {
   "cell_type": "markdown",
   "metadata": {},
   "source": [
    "2. The counting starts at 0 and stops before reaching 5. That's how it is. If you want to start at 1, you need to tell it:"
   ]
  },
  {
   "cell_type": "code",
   "execution_count": null,
   "metadata": {},
   "outputs": [],
   "source": [
    "for i in range(1,5):\n",
    "    print(\"i =\",i)"
   ]
  },
  {
   "cell_type": "markdown",
   "metadata": {},
   "source": [
    "or rather"
   ]
  },
  {
   "cell_type": "code",
   "execution_count": null,
   "metadata": {},
   "outputs": [],
   "source": [
    "for i in range(1,6):\n",
    "    print(\"i =\",i)"
   ]
  },
  {
   "cell_type": "markdown",
   "metadata": {},
   "source": [
    "3. instead of *range* we can also be more explicit, see below."
   ]
  },
  {
   "cell_type": "code",
   "execution_count": null,
   "metadata": {},
   "outputs": [],
   "source": [
    "for n in ['banana','apple','cherry']:\n",
    "    print(n)"
   ]
  },
  {
   "cell_type": "raw",
   "metadata": {},
   "source": [
    "We can give a name to this list, and late we can refer to this name: "
   ]
  },
  {
   "cell_type": "code",
   "execution_count": null,
   "metadata": {},
   "outputs": [],
   "source": [
    "fruit=['banana','apple','cherry']\n",
    "for n in fruit:\n",
    "    print(n)"
   ]
  },
  {
   "cell_type": "markdown",
   "metadata": {},
   "source": [
    "Remind yourself that the computer does not know more about fruit than what you have told it."
   ]
  },
  {
   "cell_type": "markdown",
   "metadata": {},
   "source": [
    "If the range is a range of numbers, the numbers are naturally sorted: 0,1,2,3,4,...\n",
    "\n",
    "If the range is a list of words, they are in the sequence of occurrence. We can change this easily to an alphabetical order."
   ]
  },
  {
   "cell_type": "code",
   "execution_count": null,
   "metadata": {},
   "outputs": [],
   "source": [
    "fruit.sort()\n",
    "for n in fruit:\n",
    "    print(n)"
   ]
  },
  {
   "cell_type": "markdown",
   "metadata": {},
   "source": [
    "Why are there brackets after the *sort*?"
   ]
  },
  {
   "cell_type": "markdown",
   "metadata": {},
   "source": [
    "*sort* is a function and we can tell how we want to sort. If we don't tell anything, the sorting will be somehow *natural*. If we want to change this, we need to carefully obey the rules. A"
   ]
  },
  {
   "cell_type": "code",
   "execution_count": null,
   "metadata": {},
   "outputs": [],
   "source": [
    "fruit.sort(reverse=True)\n",
    "print(fruit)"
   ]
  },
  {
   "cell_type": "markdown",
   "metadata": {},
   "source": [
    "At least the print function is quite flexible: \n",
    "\n",
    "Previously we had printed first the first fruit (whichever this was), then the second, then the third. This was done by running step-by-step through the list of fruit. \n",
    "\n",
    "Now we have printed the full range of fruit at once as a list."
   ]
  },
  {
   "cell_type": "markdown",
   "metadata": {},
   "source": [
    "## Tables, arrays and matrices"
   ]
  },
  {
   "cell_type": "markdown",
   "metadata": {},
   "source": [
    "Fruits can have prices, numbers, weights, vitamin content etc. Let us work with the following table:"
   ]
  },
  {
   "cell_type": "markdown",
   "metadata": {},
   "source": [
    "| fruit | number |price | weight| vitamin C |\n",
    "| --- | --- | --- | --- | --- |\n",
    "| banana | 1 | 25p | 125g | 7mg |\n",
    "| apple | 1 | 40p | 200g | 9mg |\n",
    "| cherry | 1 | 5p | 7g | 0.5mg |"
   ]
  },
  {
   "cell_type": "markdown",
   "metadata": {},
   "source": [
    "How can we let python work with these data? We would need something like a list of lists, right?"
   ]
  },
  {
   "cell_type": "code",
   "execution_count": null,
   "metadata": {},
   "outputs": [],
   "source": [
    "table=[['banana',1,25,125,7],['apple',1,40,200,9],['cherry',1,5,7,0.5]]"
   ]
  },
  {
   "cell_type": "code",
   "execution_count": null,
   "metadata": {},
   "outputs": [],
   "source": [
    "print(table)"
   ]
  },
  {
   "cell_type": "markdown",
   "metadata": {},
   "source": [
    "It's something, but we can do better."
   ]
  },
  {
   "cell_type": "code",
   "execution_count": null,
   "metadata": {},
   "outputs": [],
   "source": [
    "for i in table:\n",
    "    print(i)"
   ]
  },
  {
   "cell_type": "markdown",
   "metadata": {},
   "source": [
    "Better, but not great. \n",
    "\n",
    "So why not do, what most programmers do? Search the internet (and in particular *stackoverflow.com*), where you can find solutions like this one:"
   ]
  },
  {
   "cell_type": "code",
   "execution_count": null,
   "metadata": {},
   "outputs": [],
   "source": [
    "for i in table:\n",
    "    print('\\t'.join(map(str, i)))"
   ]
  },
  {
   "cell_type": "markdown",
   "metadata": {},
   "source": [
    "Is this safe? Only if you have at least a rough idea what the code does.\n",
    "Somehow we get rid of the commas and brackets, and the entries are nicely aligned.\n",
    "The first line in the code above just goes through the main components (rows) of the table, as before.\n",
    "The second line has (from inside out)\n",
    "\n",
    "* map(str,i): This produces strings from the mixed content of each of the rows\n",
    "* '\\t'.join: This produces a nicely formatted string by concatenating the five entries.\n",
    "* print: Then out with it.\n",
    "\n",
    "You may still be missing the units like p and g. Well, this is a problem, computers prefer pure numbers. There are solutions for this (such as _structures_ or _classes_), but here we hope that we can remember the units by ourselves."
   ]
  },
  {
   "cell_type": "markdown",
   "metadata": {},
   "source": [
    "Remember sorting? Try table.sort(). Does it get everything right?"
   ]
  },
  {
   "cell_type": "code",
   "execution_count": null,
   "metadata": {},
   "outputs": [],
   "source": [
    "table.sort()\n",
    "for row in table:\n",
    "    print(row)"
   ]
  },
  {
   "cell_type": "markdown",
   "metadata": {},
   "source": [
    "¸„.-•~¹°”ˆ˜¨¨˜ˆ”°¹~•-.„¸¸¸„.-•~¹°”ˆ˜¨¨˜ˆ”°¹~•-.„¸¸¸„.-•~¹°”ˆ˜¨¨˜ˆ”°¹~•-.„¸¸¸„.-•~¹°”ˆ˜¨¨˜ˆ”°¹~•-.„¸\n",
    "\n",
    "Before we move on to more interesting data, we should have a look at the options for representing the data. \n",
    "\n",
    "First, we should note that Python does not have an option to plot data graphically. For plotting and many other functions, we need to include additional components, called libraries, into our code. \n",
    "\n",
    "A library is a collection of functions as needed for specific applications or for extended functionality. More than 300,000 libraries exist. Often, a collection of functions written for a successful project are conveniently packed up and made available for other users. Some of the important libraries are maintained and improved in regular cycles. \n",
    "\n",
    "Later you may learn about libraries that come in handy for text processing, for designing a user interface, for web scraping, for date representation and much more. \n",
    "\n",
    "All we need to do is tell python what library we want and how we are going to call it. "
   ]
  },
  {
   "cell_type": "markdown",
   "metadata": {},
   "source": [
    "## Plots"
   ]
  },
  {
   "cell_type": "code",
   "execution_count": null,
   "metadata": {},
   "outputs": [],
   "source": [
    "import matplotlib.pyplot as plt"
   ]
  },
  {
   "cell_type": "markdown",
   "metadata": {},
   "source": [
    "Here, *plt* is our nickname for *mathplotlib*. \n",
    "\n",
    "Note that you will need to run the previous line to actually activate this library (no output, though). \n",
    "\n",
    "We will need only two or three more libraries, and will not talk about the other 299,996 libraries in this course, as most of them are quite similar to other ones, are extremely specified, or not really well programmed, which is not to say that there aren't still many of them that are truly impressive."
   ]
  },
  {
   "cell_type": "markdown",
   "metadata": {},
   "source": [
    "Let's plot the weights of the fruits in our table. You may need to go up and *run* the table again.\n",
    "\n",
    "Python can only give rows of a table, i.e."
   ]
  },
  {
   "cell_type": "code",
   "execution_count": null,
   "metadata": {},
   "outputs": [],
   "source": [
    "print(table[1])"
   ]
  },
  {
   "cell_type": "markdown",
   "metadata": {},
   "source": [
    "gives the second row (the first row has the index 0: table[0]).\n",
    "\n",
    "To get a column, we exchange rows and columns, i.e. we *transpose* the table.\n",
    "We go through all rows, and in each row through all items, and put out first the latter ones."
   ]
  },
  {
   "cell_type": "code",
   "execution_count": null,
   "metadata": {},
   "outputs": [],
   "source": [
    "TransposedTable=[[row[i] for row in table] for i in range(len(table[0]))]\n",
    "print(TransposedTable)"
   ]
  },
  {
   "cell_type": "markdown",
   "metadata": {},
   "source": [
    "This seems to work, but in an awkwardly complex way. If you ever have the feeling that something should work more easily, you can be sure that there is a library for this. Here, we can use the Numerical Python library called NumPy (which we will use more later)."
   ]
  },
  {
   "cell_type": "code",
   "execution_count": null,
   "metadata": {},
   "outputs": [],
   "source": [
    "import numpy  as np\n",
    "array = np.array(table)\n",
    "transposed_array = array.T\n",
    "TransposedTable = transposed_array.tolist()\n",
    "print(TransposedTable)"
   ]
  },
  {
   "cell_type": "markdown",
   "metadata": {},
   "source": [
    "Now, this may not seem much easier: We start from our table make it into an array (which is what *NumPy* prefers to work with). Here, the transposition is easy: Just apped a \".T\"! Then we go back and make the array into a table (or rather a list) again. What learn here: If we need to do transposes a lot, it is better to start with *NumPy* and *arrays* from the beginning, rather than having to go back and forth.dd"
   ]
  },
  {
   "cell_type": "markdown",
   "metadata": {},
   "source": [
    "Of course, we could have put our data in a transposed form into the table from the beginning, but shouldn't  programming rather give us some flexibility, should it? "
   ]
  },
  {
   "cell_type": "markdown",
   "metadata": {},
   "source": [
    "Leaving this question aside for a moment, we just try to plot the data:"
   ]
  },
  {
   "cell_type": "code",
   "execution_count": null,
   "metadata": {},
   "outputs": [],
   "source": [
    "plt.plot(TransposedTable[3])    # prepare the data for the plot \n",
    "plt.show()                      # display the plot"
   ]
  },
  {
   "cell_type": "markdown",
   "metadata": {},
   "source": [
    "There are lots and lots of ways to make this plot better and more meaningful, for example\n",
    "1. We would like to have the names of the fruits on the *x*-axis (e.g. \"0.25\" does not make any sense here)\n",
    "1. We can add axis labels to the plot\n",
    "1. The line connecting apples and bananas is not useful, we could rather use a bar plot\n",
    "1. We could add a legend to the plot (not really needed, if only one graph is shown)"
   ]
  },
  {
   "cell_type": "markdown",
   "metadata": {},
   "source": [
    "Before we are going to do this, let's have a look at this plot. It seems odd that the *y*-axis is inverted and does not have equidistant labels. \n",
    "\n",
    "Please remember that we obtained the transposed table in two ways: \n",
    "* directly, having each element placed at its transposed position\n",
    "* using a transpose function from the *pandas* package\n",
    "If you check the respective results you see that there is a curious difference. What were numbers, e.g. **40**, in one case are parenthesised numbers, e.g. **'40'**, in the second case. The package pandas has turned the numbers in mere labels!\n",
    "\n",
    "The reason is that pandas favours a different contained (or *format*) for data, called suggestively *dataframe*. \n",
    "\n",
    "So we could repeat the first method to get the columns which is fine, but it much better to do it properly! "
   ]
  },
  {
   "cell_type": "code",
   "execution_count": null,
   "metadata": {},
   "outputs": [],
   "source": [
    "import pandas as pd\n",
    "column_names=['fruit','number','price','weight','vitamin C']\n",
    "list_name = table\n",
    "df = pd.DataFrame (list_name, columns = [column_names])\n",
    "print(df)"
   ]
  },
  {
   "cell_type": "markdown",
   "metadata": {},
   "source": [
    "Now this is more like it. 🤩 \n",
    "\n",
    "The dataframe does contain all the information that was given with the data, not just the numbers. Dataframes are used also elsewhere, not only in Python. \n",
    "\n",
    "As above, we can transpose by simply appending **.T**. The we tell to push the values back to the list format."
   ]
  },
  {
   "cell_type": "code",
   "execution_count": null,
   "metadata": {},
   "outputs": [],
   "source": [
    "TransposedTable=df.T.values.tolist()"
   ]
  },
  {
   "cell_type": "markdown",
   "metadata": {},
   "source": [
    "This is certainly objectionable. We just arrived at dataframes, why are we going back to list-of-list now? E.g. the table from which we started, can now be produced automatically, rather than being typed in number-by-number."
   ]
  },
  {
   "cell_type": "code",
   "execution_count": null,
   "metadata": {},
   "outputs": [],
   "source": [
    "df.head()"
   ]
  },
  {
   "cell_type": "markdown",
   "metadata": {},
   "source": [
    "In programming languages, just like in natural languages, there are several ways to express the same thing. So, let's revert for a moment to the simple form and then return to the more elegant expressions in a later notebook."
   ]
  },
  {
   "cell_type": "code",
   "execution_count": null,
   "metadata": {},
   "outputs": [],
   "source": [
    "plt.xlabel(\"Fruit\")                 # Add a name to the x-axis\n",
    "plt.ylabel(\"Weight\")                # Add a name to the y-axis\n",
    "x=[1,2,3]                           # This tells where the x labels are to be placed \n",
    "y=TransposedTable[3]                # Load a data column (for other columns, change the ylabel!)\n",
    "#plt.plot(x,y)                      # Using this and not the next, uses numbers instead of fruit names\n",
    "plt.bar(x,y)                        # Make a bar plot\n",
    "plt.xticks(x,TransposedTable[0])    # Put the fruit names as labels at the respective positions 1,2,3 \n",
    "plt.show()                          # Display the result"
   ]
  },
  {
   "cell_type": "markdown",
   "metadata": {},
   "source": [
    "This may appear as if cherries were inferior to apples and bananas, although intuition tells that they are at least as good, just a bit smaller."
   ]
  },
  {
   "cell_type": "markdown",
   "metadata": {},
   "source": [
    "We could consider the following questions:\n",
    "1. Are cherries more expensive?\n",
    "2. Do cherries have more vitamin C?\n",
    "3. Are apples too heavy?\n",
    "4. Are cherries overrated?\n",
    "\n",
    "In all of these questions we need to ask: Compared to what? The next plots can help visualise such comparisons."
   ]
  },
  {
   "cell_type": "code",
   "execution_count": null,
   "metadata": {},
   "outputs": [],
   "source": [
    "plt.xlabel(\"Weight\")            # Add a name to the x-axis\n",
    "plt.ylabel(\"Price\")             # Add a name to the y-axis\n",
    "x=TransposedTable[3]            # This tells where the x labels are to be placed \n",
    "y=TransposedTable[2]            # Load a data column (for other columns, change the ylabel!)\n",
    "plt.scatter(x,y)                # Using this and not the next, uses numbers instead of fruit names\n",
    "plt.show()           "
   ]
  },
  {
   "cell_type": "markdown",
   "metadata": {},
   "source": [
    "The points are almost on the same line, so it seems the price per weight is nearly the same. However, prices change and weights vary. So, new data may give a different picture. "
   ]
  },
  {
   "cell_type": "code",
   "execution_count": null,
   "metadata": {},
   "outputs": [],
   "source": [
    "plt.xlabel(\"Price\")                     # Add a name to the x-axis\n",
    "plt.ylabel(\"Vitamin C content\")         # Add a name to the y-axis\n",
    "x=TransposedTable[2]                    # This tells where the x labels are to be placed \n",
    "y=TransposedTable[4]                    # Load a data column (for other columns, change the ylabel!)\n",
    "plt.scatter(x,y,s=200,color=\"red\")      # Now with point size and colour\n",
    "annotations=TransposedTable[0]          # use fruit names from the table as annotations for the plot\n",
    "for i, label in enumerate(annotations): \n",
    "    plt.annotate(label, (x[i], y[i]))   # Here, annotations are added point by point\n",
    "plt.show()           "
   ]
  },
  {
   "cell_type": "markdown",
   "metadata": {},
   "source": [
    "From this plot, it could seem that banaas have a realtively higher vitamin C content. But can we be sure?"
   ]
  },
  {
   "cell_type": "code",
   "execution_count": null,
   "metadata": {},
   "outputs": [],
   "source": [
    "plt.xlabel(\"Price\")                     \n",
    "plt.ylabel(\"Vitamin C content\")         \n",
    "x=TransposedTable[2]                    # Not all information needs to be repeated for a new plot of the same data\n",
    "y=TransposedTable[4]                    \n",
    "plt.scatter(x,y,s=200,color=\"red\")     \n",
    "annotations=TransposedTable[0]          \n",
    "for i, label in enumerate(annotations): \n",
    "    plt.annotate(label, (x[i], y[i]))   \n",
    "plt.plot([x[0],x[2]], [y[0],y[2]],color='green',linestyle='dotted',linewidth=2) # connecting two points by a line\n",
    "plt.show()           "
   ]
  },
  {
   "cell_type": "markdown",
   "metadata": {},
   "source": [
    "So, this seems to suggest that banana are indeed relatively better (if we can trust our data)."
   ]
  },
  {
   "cell_type": "markdown",
   "metadata": {},
   "source": [
    "## Conclusion"
   ]
  },
  {
   "cell_type": "markdown",
   "metadata": {},
   "source": [
    "Most importantly, data need to be considered critically. \n",
    "* Can the result be verified by more data? \n",
    "* Does the result vary with season? \n",
    "* Isn't the taste of cherries quite nice at times? "
   ]
  },
  {
   "cell_type": "markdown",
   "metadata": {},
   "source": [
    "Many more questions can be asked and answered, but I guess this is more interesting for more realistic data. For this, please, check the next notebook."
   ]
  },
  {
   "cell_type": "markdown",
   "metadata": {},
   "source": [
    "Some further questions:\n",
    "* Programming does not easily solve problems for you, but it can repeat the solution for one problem in many (lots of!) other cases\n",
    "* It is useful to think ahead\n",
    "    * What functions will be needed? (e.g. *transpose*) \n",
    "    * What data structure are useful? (e.g. *array*)\n",
    "    * What information is relevant? (e.g. about range of variability)\n",
    "* Consider repeatedly: What is the goal of the analysis? When can we stop? Should we look for something interesting in the data?"
   ]
  },
  {
   "cell_type": "markdown",
   "metadata": {},
   "source": [
    "¸„.-•~¹°”ˆ˜¨¨˜ˆ”°¹~•-.„¸¸¸„.-•~¹°”ˆ˜¨¨˜ˆ”°¹~•-.„¸¸¸„.-•~¹°”ˆ˜¨¨˜ˆ”°¹~•-.„¸¸¸„.-•~¹°”ˆ˜¨¨˜ˆ”°¹~•-.„¸"
   ]
  }
 ],
 "metadata": {
  "kernelspec": {
   "display_name": "Python 3 (ipykernel)",
   "language": "python",
   "name": "python3"
  },
  "language_info": {
   "codemirror_mode": {
    "name": "ipython",
    "version": 3
   },
   "file_extension": ".py",
   "mimetype": "text/x-python",
   "name": "python",
   "nbconvert_exporter": "python",
   "pygments_lexer": "ipython3",
   "version": "3.9.2"
  }
 },
 "nbformat": 4,
 "nbformat_minor": 2
}
