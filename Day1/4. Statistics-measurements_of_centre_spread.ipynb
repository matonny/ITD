{
 "cells": [
  {
   "cell_type": "markdown",
   "id": "imposed-natural",
   "metadata": {},
   "source": [
    "# Fundamentals of Statistics"
   ]
  },
  {
   "cell_type": "markdown",
   "id": "exposed-commonwealth",
   "metadata": {},
   "source": [
    "## Data\n",
    "\n",
    "The dataset we use here is taken from this [paper](https://www.nature.com/articles/sdata201919) which studies life expectancy of hundards of animals from North American zoos and aquariums. We start by importing the required modules/packages/libraries. Then we read in the data which is a csv file and look at the first five rows of the data."
   ]
  },
  {
   "cell_type": "code",
   "execution_count": 1,
   "id": "adult-salvation",
   "metadata": {},
   "outputs": [],
   "source": [
    "import pandas as pd\n",
    "import numpy as np\n",
    "import matplotlib.pyplot as plt"
   ]
  },
  {
   "cell_type": "code",
   "execution_count": 2,
   "id": "dietary-restoration",
   "metadata": {
    "scrolled": true
   },
   "outputs": [
    {
     "data": {
      "text/html": [
       "<div>\n",
       "<style scoped>\n",
       "    .dataframe tbody tr th:only-of-type {\n",
       "        vertical-align: middle;\n",
       "    }\n",
       "\n",
       "    .dataframe tbody tr th {\n",
       "        vertical-align: top;\n",
       "    }\n",
       "\n",
       "    .dataframe thead th {\n",
       "        text-align: right;\n",
       "    }\n",
       "</style>\n",
       "<table border=\"1\" class=\"dataframe\">\n",
       "  <thead>\n",
       "    <tr style=\"text-align: right;\">\n",
       "      <th></th>\n",
       "      <th>Species Common Name</th>\n",
       "      <th>Scientific Name</th>\n",
       "      <th>TaxonClass</th>\n",
       "      <th>Overall Sample Size</th>\n",
       "      <th>Overall MLE</th>\n",
       "      <th>Overall CI - lower</th>\n",
       "      <th>Overall CI - upper</th>\n",
       "      <th>Male Sample Size</th>\n",
       "      <th>Male MLE</th>\n",
       "      <th>Male CI - lower</th>\n",
       "      <th>Male CI - upper</th>\n",
       "      <th>Female Sample Size</th>\n",
       "      <th>Female MLE</th>\n",
       "      <th>Female CI - lower</th>\n",
       "      <th>Female CI - upper</th>\n",
       "      <th>Male Data Deficient</th>\n",
       "      <th>Female Data Deficient</th>\n",
       "    </tr>\n",
       "  </thead>\n",
       "  <tbody>\n",
       "    <tr>\n",
       "      <th>0</th>\n",
       "      <td>Addax</td>\n",
       "      <td>Addax nasomaculatus</td>\n",
       "      <td>Mammalia</td>\n",
       "      <td>1215.0</td>\n",
       "      <td>13.4</td>\n",
       "      <td>12.4</td>\n",
       "      <td>14.5</td>\n",
       "      <td>558.0</td>\n",
       "      <td>12.3</td>\n",
       "      <td>10.5</td>\n",
       "      <td>14.7</td>\n",
       "      <td>656.0</td>\n",
       "      <td>14.4</td>\n",
       "      <td>13.0</td>\n",
       "      <td>15.1</td>\n",
       "      <td>NaN</td>\n",
       "      <td>NaN</td>\n",
       "    </tr>\n",
       "    <tr>\n",
       "      <th>1</th>\n",
       "      <td>Agouti, Brazilian</td>\n",
       "      <td>Dasyprocta leporina</td>\n",
       "      <td>Mammalia</td>\n",
       "      <td>456.0</td>\n",
       "      <td>8.1</td>\n",
       "      <td>7.2</td>\n",
       "      <td>9.3</td>\n",
       "      <td>216.0</td>\n",
       "      <td>8.8</td>\n",
       "      <td>6.9</td>\n",
       "      <td>10.3</td>\n",
       "      <td>220.0</td>\n",
       "      <td>7.8</td>\n",
       "      <td>6.8</td>\n",
       "      <td>8.6</td>\n",
       "      <td>NaN</td>\n",
       "      <td>NaN</td>\n",
       "    </tr>\n",
       "    <tr>\n",
       "      <th>2</th>\n",
       "      <td>Alligator, Chinese</td>\n",
       "      <td>Alligator sinensis</td>\n",
       "      <td>Reptilia</td>\n",
       "      <td>351.0</td>\n",
       "      <td>30.9</td>\n",
       "      <td>25.9</td>\n",
       "      <td>34.3</td>\n",
       "      <td>151.0</td>\n",
       "      <td>25.9</td>\n",
       "      <td>23.9</td>\n",
       "      <td>52.1</td>\n",
       "      <td>176.0</td>\n",
       "      <td>32.8</td>\n",
       "      <td>25.9</td>\n",
       "      <td>46</td>\n",
       "      <td>yes</td>\n",
       "      <td>yes</td>\n",
       "    </tr>\n",
       "    <tr>\n",
       "      <th>3</th>\n",
       "      <td>Anoa, Lowland</td>\n",
       "      <td>Bubalus depressicornis</td>\n",
       "      <td>Mammalia</td>\n",
       "      <td>256.0</td>\n",
       "      <td>17.7</td>\n",
       "      <td>15.3</td>\n",
       "      <td>21.2</td>\n",
       "      <td>113.0</td>\n",
       "      <td>16.3</td>\n",
       "      <td>14.7</td>\n",
       "      <td>21.3</td>\n",
       "      <td>139.0</td>\n",
       "      <td>18.8</td>\n",
       "      <td>15.2</td>\n",
       "      <td>21.5</td>\n",
       "      <td>yes</td>\n",
       "      <td>yes</td>\n",
       "    </tr>\n",
       "    <tr>\n",
       "      <th>4</th>\n",
       "      <td>Anteater, Giant</td>\n",
       "      <td>Myrmecophaga tridactyla</td>\n",
       "      <td>Mammalia</td>\n",
       "      <td>177.0</td>\n",
       "      <td>19.7</td>\n",
       "      <td>17.1</td>\n",
       "      <td>21.5</td>\n",
       "      <td>86.0</td>\n",
       "      <td>19.4</td>\n",
       "      <td>17.1</td>\n",
       "      <td>21.5</td>\n",
       "      <td>90.0</td>\n",
       "      <td>19.7</td>\n",
       "      <td>16.2</td>\n",
       "      <td>22</td>\n",
       "      <td>yes</td>\n",
       "      <td>yes</td>\n",
       "    </tr>\n",
       "  </tbody>\n",
       "</table>\n",
       "</div>"
      ],
      "text/plain": [
       "  Species Common Name          Scientific Name TaxonClass  \\\n",
       "0               Addax      Addax nasomaculatus   Mammalia   \n",
       "1   Agouti, Brazilian      Dasyprocta leporina   Mammalia   \n",
       "2  Alligator, Chinese       Alligator sinensis   Reptilia   \n",
       "3       Anoa, Lowland   Bubalus depressicornis   Mammalia   \n",
       "4     Anteater, Giant  Myrmecophaga tridactyla   Mammalia   \n",
       "\n",
       "   Overall Sample Size   Overall MLE  Overall CI - lower  Overall CI - upper  \\\n",
       "0                1215.0         13.4                12.4                14.5   \n",
       "1                 456.0          8.1                 7.2                 9.3   \n",
       "2                 351.0         30.9                25.9                34.3   \n",
       "3                 256.0         17.7                15.3                21.2   \n",
       "4                 177.0         19.7                17.1                21.5   \n",
       "\n",
       "   Male Sample Size  Male MLE  Male CI - lower  Male CI - upper  \\\n",
       "0             558.0      12.3             10.5             14.7   \n",
       "1             216.0       8.8              6.9             10.3   \n",
       "2             151.0      25.9             23.9             52.1   \n",
       "3             113.0      16.3             14.7             21.3   \n",
       "4              86.0      19.4             17.1             21.5   \n",
       "\n",
       "   Female Sample Size   Female MLE  Female CI - lower Female CI - upper  \\\n",
       "0                656.0        14.4               13.0              15.1   \n",
       "1                220.0         7.8                6.8               8.6   \n",
       "2                176.0        32.8               25.9                46   \n",
       "3                139.0        18.8               15.2              21.5   \n",
       "4                 90.0        19.7               16.2                22   \n",
       "\n",
       "  Male Data Deficient Female Data Deficient  \n",
       "0                 NaN                   NaN  \n",
       "1                 NaN                   NaN  \n",
       "2                 yes                   yes  \n",
       "3                 yes                   yes  \n",
       "4                 yes                   yes  "
      ]
     },
     "execution_count": 2,
     "metadata": {},
     "output_type": "execute_result"
    }
   ],
   "source": [
    "zooanimals = pd.read_csv(\"Data/AZA_MLE_Jul2018.csv\", encoding='latin-1')\n",
    "zooanimals.head()"
   ]
  },
  {
   "cell_type": "markdown",
   "id": "liquid-joyce",
   "metadata": {},
   "source": [
    "The column \"Overall MLE\" shows the Median Life Expectancy for each animal. We take this column and make a histogram of it."
   ]
  },
  {
   "cell_type": "code",
   "execution_count": 3,
   "id": "extensive-catering",
   "metadata": {},
   "outputs": [
    {
     "data": {
      "image/png": "[encoded data removed]",
      "text/plain": [
       "<Figure size 432x288 with 1 Axes>"
      ]
     },
     "metadata": {
      "needs_background": "light"
     },
     "output_type": "display_data"
    }
   ],
   "source": [
    "all_lifexp = zooanimals[\"Overall MLE\"]\n",
    "plt.hist(all_lifexp)\n",
    "plt.show()"
   ]
  },
  {
   "cell_type": "markdown",
   "id": "disturbed-luxury",
   "metadata": {},
   "source": [
    "We are interested in the data about Mammals. So we make a subset of the dataset in which `TaxonClass == Mammalia` and call it \"Mammalia\"."
   ]
  },
  {
   "cell_type": "code",
   "execution_count": 8,
   "id": "pressed-bosnia",
   "metadata": {
    "scrolled": true
   },
   "outputs": [
    {
     "data": {
      "text/html": [
       "<div>\n",
       "<style scoped>\n",
       "    .dataframe tbody tr th:only-of-type {\n",
       "        vertical-align: middle;\n",
       "    }\n",
       "\n",
       "    .dataframe tbody tr th {\n",
       "        vertical-align: top;\n",
       "    }\n",
       "\n",
       "    .dataframe thead th {\n",
       "        text-align: right;\n",
       "    }\n",
       "</style>\n",
       "<table border=\"1\" class=\"dataframe\">\n",
       "  <thead>\n",
       "    <tr style=\"text-align: right;\">\n",
       "      <th></th>\n",
       "      <th>Species Common Name</th>\n",
       "      <th>Scientific Name</th>\n",
       "      <th>TaxonClass</th>\n",
       "      <th>Overall Sample Size</th>\n",
       "      <th>Overall MLE</th>\n",
       "      <th>Overall CI - lower</th>\n",
       "      <th>Overall CI - upper</th>\n",
       "      <th>Male Sample Size</th>\n",
       "      <th>Male MLE</th>\n",
       "      <th>Male CI - lower</th>\n",
       "      <th>Male CI - upper</th>\n",
       "      <th>Female Sample Size</th>\n",
       "      <th>Female MLE</th>\n",
       "      <th>Female CI - lower</th>\n",
       "      <th>Female CI - upper</th>\n",
       "      <th>Male Data Deficient</th>\n",
       "      <th>Female Data Deficient</th>\n",
       "    </tr>\n",
       "  </thead>\n",
       "  <tbody>\n",
       "    <tr>\n",
       "      <th>0</th>\n",
       "      <td>Addax</td>\n",
       "      <td>Addax nasomaculatus</td>\n",
       "      <td>Mammalia</td>\n",
       "      <td>1215.0</td>\n",
       "      <td>13.4</td>\n",
       "      <td>12.4</td>\n",
       "      <td>14.5</td>\n",
       "      <td>558.0</td>\n",
       "      <td>12.3</td>\n",
       "      <td>10.5</td>\n",
       "      <td>14.7</td>\n",
       "      <td>656.0</td>\n",
       "      <td>14.4</td>\n",
       "      <td>13.0</td>\n",
       "      <td>15.1</td>\n",
       "      <td>NaN</td>\n",
       "      <td>NaN</td>\n",
       "    </tr>\n",
       "    <tr>\n",
       "      <th>1</th>\n",
       "      <td>Agouti, Brazilian</td>\n",
       "      <td>Dasyprocta leporina</td>\n",
       "      <td>Mammalia</td>\n",
       "      <td>456.0</td>\n",
       "      <td>8.1</td>\n",
       "      <td>7.2</td>\n",
       "      <td>9.3</td>\n",
       "      <td>216.0</td>\n",
       "      <td>8.8</td>\n",
       "      <td>6.9</td>\n",
       "      <td>10.3</td>\n",
       "      <td>220.0</td>\n",
       "      <td>7.8</td>\n",
       "      <td>6.8</td>\n",
       "      <td>8.6</td>\n",
       "      <td>NaN</td>\n",
       "      <td>NaN</td>\n",
       "    </tr>\n",
       "    <tr>\n",
       "      <th>3</th>\n",
       "      <td>Anoa, Lowland</td>\n",
       "      <td>Bubalus depressicornis</td>\n",
       "      <td>Mammalia</td>\n",
       "      <td>256.0</td>\n",
       "      <td>17.7</td>\n",
       "      <td>15.3</td>\n",
       "      <td>21.2</td>\n",
       "      <td>113.0</td>\n",
       "      <td>16.3</td>\n",
       "      <td>14.7</td>\n",
       "      <td>21.3</td>\n",
       "      <td>139.0</td>\n",
       "      <td>18.8</td>\n",
       "      <td>15.2</td>\n",
       "      <td>21.5</td>\n",
       "      <td>yes</td>\n",
       "      <td>yes</td>\n",
       "    </tr>\n",
       "    <tr>\n",
       "      <th>4</th>\n",
       "      <td>Anteater, Giant</td>\n",
       "      <td>Myrmecophaga tridactyla</td>\n",
       "      <td>Mammalia</td>\n",
       "      <td>177.0</td>\n",
       "      <td>19.7</td>\n",
       "      <td>17.1</td>\n",
       "      <td>21.5</td>\n",
       "      <td>86.0</td>\n",
       "      <td>19.4</td>\n",
       "      <td>17.1</td>\n",
       "      <td>21.5</td>\n",
       "      <td>90.0</td>\n",
       "      <td>19.7</td>\n",
       "      <td>16.2</td>\n",
       "      <td>22</td>\n",
       "      <td>yes</td>\n",
       "      <td>yes</td>\n",
       "    </tr>\n",
       "    <tr>\n",
       "      <th>5</th>\n",
       "      <td>Antelope, Roan</td>\n",
       "      <td>Hippotragus equinus</td>\n",
       "      <td>Mammalia</td>\n",
       "      <td>456.0</td>\n",
       "      <td>12.5</td>\n",
       "      <td>11.5</td>\n",
       "      <td>13.2</td>\n",
       "      <td>210.0</td>\n",
       "      <td>12.7</td>\n",
       "      <td>10.6</td>\n",
       "      <td>16.5</td>\n",
       "      <td>245.0</td>\n",
       "      <td>12.4</td>\n",
       "      <td>10.8</td>\n",
       "      <td>13.1</td>\n",
       "      <td>yes</td>\n",
       "      <td>NaN</td>\n",
       "    </tr>\n",
       "    <tr>\n",
       "      <th>...</th>\n",
       "      <td>...</td>\n",
       "      <td>...</td>\n",
       "      <td>...</td>\n",
       "      <td>...</td>\n",
       "      <td>...</td>\n",
       "      <td>...</td>\n",
       "      <td>...</td>\n",
       "      <td>...</td>\n",
       "      <td>...</td>\n",
       "      <td>...</td>\n",
       "      <td>...</td>\n",
       "      <td>...</td>\n",
       "      <td>...</td>\n",
       "      <td>...</td>\n",
       "      <td>...</td>\n",
       "      <td>...</td>\n",
       "      <td>...</td>\n",
       "    </tr>\n",
       "    <tr>\n",
       "      <th>323</th>\n",
       "      <td>Wolf, Mexican Gray</td>\n",
       "      <td>Canis lupus baileyi</td>\n",
       "      <td>Mammalia</td>\n",
       "      <td>514.0</td>\n",
       "      <td>11.0</td>\n",
       "      <td>10.5</td>\n",
       "      <td>12.1</td>\n",
       "      <td>263.0</td>\n",
       "      <td>11.0</td>\n",
       "      <td>10.1</td>\n",
       "      <td>12.1</td>\n",
       "      <td>251.0</td>\n",
       "      <td>11.3</td>\n",
       "      <td>10.1</td>\n",
       "      <td>13.4</td>\n",
       "      <td>NaN</td>\n",
       "      <td>NaN</td>\n",
       "    </tr>\n",
       "    <tr>\n",
       "      <th>324</th>\n",
       "      <td>Wolf, Red</td>\n",
       "      <td>Canis rufus gregoryi</td>\n",
       "      <td>Mammalia</td>\n",
       "      <td>658.0</td>\n",
       "      <td>10.8</td>\n",
       "      <td>10.2</td>\n",
       "      <td>11.2</td>\n",
       "      <td>311.0</td>\n",
       "      <td>10.8</td>\n",
       "      <td>9.7</td>\n",
       "      <td>11.5</td>\n",
       "      <td>347.0</td>\n",
       "      <td>10.7</td>\n",
       "      <td>10.0</td>\n",
       "      <td>11.4</td>\n",
       "      <td>NaN</td>\n",
       "      <td>NaN</td>\n",
       "    </tr>\n",
       "    <tr>\n",
       "      <th>327</th>\n",
       "      <td>Zebra, Grevy's</td>\n",
       "      <td>Equus grevyi</td>\n",
       "      <td>Mammalia</td>\n",
       "      <td>797.0</td>\n",
       "      <td>14.1</td>\n",
       "      <td>12.9</td>\n",
       "      <td>15.3</td>\n",
       "      <td>341.0</td>\n",
       "      <td>11.2</td>\n",
       "      <td>8.8</td>\n",
       "      <td>13.2</td>\n",
       "      <td>455.0</td>\n",
       "      <td>16.5</td>\n",
       "      <td>14.4</td>\n",
       "      <td>18</td>\n",
       "      <td>NaN</td>\n",
       "      <td>NaN</td>\n",
       "    </tr>\n",
       "    <tr>\n",
       "      <th>328</th>\n",
       "      <td>Zebra, Hartmann's Mountain</td>\n",
       "      <td>Equus zebra hartmannae</td>\n",
       "      <td>Mammalia</td>\n",
       "      <td>585.0</td>\n",
       "      <td>13.9</td>\n",
       "      <td>12.3</td>\n",
       "      <td>15.3</td>\n",
       "      <td>283.0</td>\n",
       "      <td>12.3</td>\n",
       "      <td>10.8</td>\n",
       "      <td>13.9</td>\n",
       "      <td>301.0</td>\n",
       "      <td>15.4</td>\n",
       "      <td>13.2</td>\n",
       "      <td>17</td>\n",
       "      <td>NaN</td>\n",
       "      <td>NaN</td>\n",
       "    </tr>\n",
       "    <tr>\n",
       "      <th>329</th>\n",
       "      <td>Zebra, Plains</td>\n",
       "      <td>Equus quagga</td>\n",
       "      <td>Mammalia</td>\n",
       "      <td>1635.0</td>\n",
       "      <td>15.6</td>\n",
       "      <td>14.4</td>\n",
       "      <td>16.5</td>\n",
       "      <td>638.0</td>\n",
       "      <td>14.0</td>\n",
       "      <td>11.6</td>\n",
       "      <td>15.9</td>\n",
       "      <td>991.0</td>\n",
       "      <td>16.0</td>\n",
       "      <td>14.9</td>\n",
       "      <td>17</td>\n",
       "      <td>NaN</td>\n",
       "      <td>NaN</td>\n",
       "    </tr>\n",
       "  </tbody>\n",
       "</table>\n",
       "<p>175 rows × 17 columns</p>\n",
       "</div>"
      ],
      "text/plain": [
       "            Species Common Name          Scientific Name TaxonClass  \\\n",
       "0                         Addax      Addax nasomaculatus   Mammalia   \n",
       "1             Agouti, Brazilian      Dasyprocta leporina   Mammalia   \n",
       "3                 Anoa, Lowland   Bubalus depressicornis   Mammalia   \n",
       "4               Anteater, Giant  Myrmecophaga tridactyla   Mammalia   \n",
       "5                Antelope, Roan      Hippotragus equinus   Mammalia   \n",
       "..                          ...                      ...        ...   \n",
       "323          Wolf, Mexican Gray      Canis lupus baileyi   Mammalia   \n",
       "324                   Wolf, Red     Canis rufus gregoryi   Mammalia   \n",
       "327              Zebra, Grevy's             Equus grevyi   Mammalia   \n",
       "328  Zebra, Hartmann's Mountain   Equus zebra hartmannae   Mammalia   \n",
       "329               Zebra, Plains            Equus quagga    Mammalia   \n",
       "\n",
       "     Overall Sample Size   Overall MLE  Overall CI - lower  \\\n",
       "0                  1215.0         13.4                12.4   \n",
       "1                   456.0          8.1                 7.2   \n",
       "3                   256.0         17.7                15.3   \n",
       "4                   177.0         19.7                17.1   \n",
       "5                   456.0         12.5                11.5   \n",
       "..                    ...          ...                 ...   \n",
       "323                 514.0         11.0                10.5   \n",
       "324                 658.0         10.8                10.2   \n",
       "327                 797.0         14.1                12.9   \n",
       "328                 585.0         13.9                12.3   \n",
       "329                1635.0         15.6                14.4   \n",
       "\n",
       "     Overall CI - upper  Male Sample Size  Male MLE  Male CI - lower  \\\n",
       "0                  14.5             558.0      12.3             10.5   \n",
       "1                   9.3             216.0       8.8              6.9   \n",
       "3                  21.2             113.0      16.3             14.7   \n",
       "4                  21.5              86.0      19.4             17.1   \n",
       "5                  13.2             210.0      12.7             10.6   \n",
       "..                  ...               ...       ...              ...   \n",
       "323                12.1             263.0      11.0             10.1   \n",
       "324                11.2             311.0      10.8              9.7   \n",
       "327                15.3             341.0      11.2              8.8   \n",
       "328                15.3             283.0      12.3             10.8   \n",
       "329                16.5             638.0      14.0             11.6   \n",
       "\n",
       "     Male CI - upper  Female Sample Size   Female MLE  Female CI - lower  \\\n",
       "0               14.7                656.0        14.4               13.0   \n",
       "1               10.3                220.0         7.8                6.8   \n",
       "3               21.3                139.0        18.8               15.2   \n",
       "4               21.5                 90.0        19.7               16.2   \n",
       "5               16.5                245.0        12.4               10.8   \n",
       "..               ...                  ...         ...                ...   \n",
       "323             12.1                251.0        11.3               10.1   \n",
       "324             11.5                347.0        10.7               10.0   \n",
       "327             13.2                455.0        16.5               14.4   \n",
       "328             13.9                301.0        15.4               13.2   \n",
       "329             15.9                991.0        16.0               14.9   \n",
       "\n",
       "    Female CI - upper Male Data Deficient Female Data Deficient  \n",
       "0                15.1                 NaN                   NaN  \n",
       "1                 8.6                 NaN                   NaN  \n",
       "3                21.5                 yes                   yes  \n",
       "4                  22                 yes                   yes  \n",
       "5                13.1                 yes                   NaN  \n",
       "..                ...                 ...                   ...  \n",
       "323              13.4                 NaN                   NaN  \n",
       "324              11.4                 NaN                   NaN  \n",
       "327                18                 NaN                   NaN  \n",
       "328                17                 NaN                   NaN  \n",
       "329                17                 NaN                   NaN  \n",
       "\n",
       "[175 rows x 17 columns]"
      ]
     },
     "execution_count": 8,
     "metadata": {},
     "output_type": "execute_result"
    }
   ],
   "source": [
    "Mammalia = zooanimals.loc[zooanimals['TaxonClass'] == 'Mammalia']\n",
    "Mammalia"
   ]
  },
  {
   "cell_type": "markdown",
   "id": "satisfied-trust",
   "metadata": {},
   "source": [
    "We take the \"Overall MLE\" again and make a histogram of life expectancy values for Mammals."
   ]
  },
  {
   "cell_type": "code",
   "execution_count": 9,
   "id": "exact-affiliate",
   "metadata": {},
   "outputs": [
    {
     "data": {
      "image/png": "[encoded data removed]",
      "text/plain": [
       "<Figure size 432x288 with 1 Axes>"
      ]
     },
     "metadata": {
      "needs_background": "light"
     },
     "output_type": "display_data"
    }
   ],
   "source": [
    "Mammalia_lifexp = Mammalia[\"Overall MLE\"]\n",
    "plt.hist(Mammalia_lifexp)\n",
    "plt.title(\"Distribution of life expectancy of zoo mammals\")\n",
    "plt.xlabel(\"Life Expectancy\")\n",
    "plt.ylabel(\"Count\")\n",
    "plt.grid()\n",
    "plt.show()"
   ]
  },
  {
   "cell_type": "markdown",
   "id": "unexpected-salad",
   "metadata": {},
   "source": [
    "## Measurements of centre of data"
   ]
  },
  {
   "cell_type": "markdown",
   "id": "binding-biotechnology",
   "metadata": {},
   "source": [
    "### Mean\n",
    "\n",
    "The purpose here is to find the mean of the life expectancy variable of the mammals. We can use the `np.mean` function to calculate this. Or sum up all the values using `np.sum` and divide them over the number of data values which is found using `len`."
   ]
  },
  {
   "cell_type": "code",
   "execution_count": 10,
   "id": "prepared-stage",
   "metadata": {},
   "outputs": [
    {
     "data": {
      "text/plain": [
       "14.711428571428572"
      ]
     },
     "execution_count": 10,
     "metadata": {},
     "output_type": "execute_result"
    }
   ],
   "source": [
    "Mammalia_mean = np.mean(Mammalia_lifexp)\n",
    "Mammalia_mean"
   ]
  },
  {
   "cell_type": "code",
   "execution_count": 11,
   "id": "lyric-sussex",
   "metadata": {},
   "outputs": [
    {
     "data": {
      "text/plain": [
       "14.711428571428572"
      ]
     },
     "execution_count": 11,
     "metadata": {},
     "output_type": "execute_result"
    }
   ],
   "source": [
    "np.sum(Mammalia_lifexp)/len(Mammalia_lifexp)"
   ]
  },
  {
   "cell_type": "markdown",
   "id": "closed-tomorrow",
   "metadata": {},
   "source": [
    "### Median\n",
    "\n",
    "In order to find median of this variable, `np.median` is used. Or we can sort all the values using `sort_values()` which sorts the 175 values from smallest to largest. Since this number is odd,  median is the middle point which is the 88th observation out of the 175 of them (considering the index in python starts from 0, that would be the 87th element)."
   ]
  },
  {
   "cell_type": "code",
   "execution_count": 12,
   "id": "dedicated-scanner",
   "metadata": {},
   "outputs": [
    {
     "data": {
      "text/plain": [
       "13.2"
      ]
     },
     "execution_count": 12,
     "metadata": {},
     "output_type": "execute_result"
    }
   ],
   "source": [
    "np.median(Mammalia_lifexp)"
   ]
  },
  {
   "cell_type": "code",
   "execution_count": 13,
   "id": "photographic-sequence",
   "metadata": {},
   "outputs": [
    {
     "data": {
      "text/plain": [
       "70      4.6\n",
       "86      4.7\n",
       "240     5.0\n",
       "109     5.1\n",
       "116     5.2\n",
       "       ... \n",
       "130    35.5\n",
       "28     35.6\n",
       "90     36.3\n",
       "49     36.3\n",
       "91     42.0\n",
       "Name: Overall MLE, Length: 175, dtype: float64"
      ]
     },
     "execution_count": 13,
     "metadata": {},
     "output_type": "execute_result"
    }
   ],
   "source": [
    "Mammalia_lifexp.sort_values()"
   ]
  },
  {
   "cell_type": "code",
   "execution_count": 15,
   "id": "awful-vehicle",
   "metadata": {},
   "outputs": [
    {
     "data": {
      "text/plain": [
       "13.2"
      ]
     },
     "execution_count": 15,
     "metadata": {},
     "output_type": "execute_result"
    }
   ],
   "source": [
    "Mammalia_median = Mammalia_lifexp.sort_values().iloc[87]\n",
    "Mammalia_median"
   ]
  },
  {
   "cell_type": "markdown",
   "id": "departmental-thread",
   "metadata": {},
   "source": [
    "### Mode\n",
    "\n",
    "The life expectancy is a continous variable and mode is not informative for it. However we can find mode of the nomial variable 'TaxonClass'. The function `value_counts()` shows all the levels of the variable and their frequencies, which indicated what the mode is. Or instead we can import the `statistics` module and use the `mode` function. "
   ]
  },
  {
   "cell_type": "code",
   "execution_count": null,
   "id": "processed-plaza",
   "metadata": {},
   "outputs": [],
   "source": [
    "zooanimals['TaxonClass'].value_counts()"
   ]
  },
  {
   "cell_type": "code",
   "execution_count": null,
   "id": "coastal-opening",
   "metadata": {},
   "outputs": [],
   "source": [
    "# The statistics module provides functions to mathematical statistics of numeric data.\n",
    "import statistics\n",
    "statistics.mode(zooanimals['TaxonClass'])"
   ]
  },
  {
   "cell_type": "markdown",
   "id": "timely-university",
   "metadata": {},
   "source": [
    "We can mark these summary values in the histogram plot."
   ]
  },
  {
   "cell_type": "code",
   "execution_count": null,
   "id": "analyzed-turkish",
   "metadata": {},
   "outputs": [],
   "source": [
    "plt.hist(Mammalia_lifexp)\n",
    "plt.title(\"Distribution of life expectancy of zoo mammals\")\n",
    "plt.xlabel(\"Life Expectancy\")\n",
    "plt.ylabel(\"Count\")\n",
    "plt.grid()\n",
    "plt.axvline(x=Mammalia_mean, color='k', label=\"mean\")\n",
    "plt.axvline(x=Mammalia_median, color='r', label=\"median\")\n",
    "plt.legend()\n",
    "plt.show()"
   ]
  },
  {
   "cell_type": "markdown",
   "id": "referenced-universal",
   "metadata": {},
   "source": [
    "## Measures of spread of data"
   ]
  },
  {
   "cell_type": "markdown",
   "id": "agricultural-bobby",
   "metadata": {},
   "source": [
    "### Range\n",
    "\n",
    "Finding the range of the values of the selected variable is straihforward using `sort_values()`. Or `np.ptp` can be used instead. "
   ]
  },
  {
   "cell_type": "code",
   "execution_count": null,
   "id": "violent-deadline",
   "metadata": {},
   "outputs": [],
   "source": [
    "Mammalia_lifexp.sort_values()"
   ]
  },
  {
   "cell_type": "code",
   "execution_count": null,
   "id": "activated-future",
   "metadata": {},
   "outputs": [],
   "source": [
    "np.ptp(Mammalia_lifexp)"
   ]
  },
  {
   "cell_type": "markdown",
   "id": "black-closure",
   "metadata": {},
   "source": [
    "### Variance\n",
    "\n",
    "The most important measurement of spread of the data is variance which is calculated using `np.var`."
   ]
  },
  {
   "cell_type": "code",
   "execution_count": null,
   "id": "saved-range",
   "metadata": {},
   "outputs": [],
   "source": [
    "Mammalia_var = np.var(Mammalia_lifexp)\n",
    "print(Mammalia_var)"
   ]
  },
  {
   "cell_type": "markdown",
   "id": "regional-orchestra",
   "metadata": {},
   "source": [
    "We can directly follow the variance formula and calculate its value by \"(1) find deviations – (2) square them – (3) sum them up – (4) average them\". "
   ]
  },
  {
   "cell_type": "code",
   "execution_count": null,
   "id": "corporate-enhancement",
   "metadata": {},
   "outputs": [],
   "source": [
    "#1\n",
    "distance = Mammalia_lifexp - np.mean(Mammalia_lifexp)\n",
    "#2\n",
    "sq_distance = distance ** 2\n",
    "#3\n",
    "sum_sq_distance = np.sum(sq_distance)\n",
    "#4\n",
    "variance = sum_sq_distance / (len(Mammalia_lifexp)-1)\n",
    "print(variance)"
   ]
  },
  {
   "cell_type": "markdown",
   "id": "worse-participant",
   "metadata": {},
   "source": [
    "The other measurment of variation is standard deviation which is just the square root of variance. Square root of variance can be used or the `np.std` function which calcutes the standard deviation directly."
   ]
  },
  {
   "cell_type": "code",
   "execution_count": null,
   "id": "manufactured-pakistan",
   "metadata": {},
   "outputs": [],
   "source": [
    "np.sqrt(Mammalia_var)"
   ]
  },
  {
   "cell_type": "code",
   "execution_count": null,
   "id": "restricted-jacksonville",
   "metadata": {},
   "outputs": [],
   "source": [
    "np.std(Mammalia_lifexp)"
   ]
  },
  {
   "cell_type": "markdown",
   "id": "furnished-sunglasses",
   "metadata": {},
   "source": [
    "## Quantiles and boxplots\n",
    "\n",
    "Any quantiles of the selected variable can be calculated using `np.quantiles`. Usually we check the minimum, 25%, 50%, 75% and maximum of the data. "
   ]
  },
  {
   "cell_type": "code",
   "execution_count": null,
   "id": "following-footage",
   "metadata": {},
   "outputs": [],
   "source": [
    "print(np.quantile(Mammalia_lifexp, [0, 0.25, 0.5, 0.75, 1]))"
   ]
  },
  {
   "cell_type": "markdown",
   "id": "cultural-directive",
   "metadata": {},
   "source": [
    "A useful function is `describe()` which gives a descriptive summary  of the variable."
   ]
  },
  {
   "cell_type": "code",
   "execution_count": null,
   "id": "loved-genius",
   "metadata": {},
   "outputs": [],
   "source": [
    "Mammalia_lifexp.describe()"
   ]
  },
  {
   "cell_type": "markdown",
   "id": "committed-velvet",
   "metadata": {},
   "source": [
    "A \"boxplot\" is a very informative way of showing the spread of data and the quartiles."
   ]
  },
  {
   "cell_type": "code",
   "execution_count": null,
   "id": "dominant-solomon",
   "metadata": {
    "scrolled": true
   },
   "outputs": [],
   "source": [
    "plt.boxplot(Mammalia_lifexp)\n",
    "plt.xlabel(\"Mammalia\")\n",
    "plt.ylabel(\"Life expectancy\")\n",
    "plt.show()"
   ]
  },
  {
   "cell_type": "markdown",
   "id": "liked-rouge",
   "metadata": {},
   "source": [
    "### Outliers\n",
    "\n",
    "The boxplot shows a few of outliers in the variable with small circles. We can investigate the data and find out which animals are outliers in this variable. The interquantile range is directly calculated using `iqr` function from `scpy.stats` module. Then the upper and lower threshold of the data are calculated. Any data element smaller than the lower threshold `or` larger than the upper threshold are outliers. "
   ]
  },
  {
   "cell_type": "code",
   "execution_count": null,
   "id": "molecular-cassette",
   "metadata": {},
   "outputs": [],
   "source": [
    "from scipy.stats import iqr\n",
    "IQR = iqr(Mammalia_lifexp)\n",
    "lower_threshold = np.quantile(Mammalia_lifexp, 0.25) - 1.5 * IQR\n",
    "upper_threshold = np.quantile(Mammalia_lifexp, 0.75) + 1.5 * IQR\n",
    "outliers = Mammalia_lifexp[(Mammalia_lifexp < lower_threshold) | (Mammalia_lifexp > upper_threshold)]\n",
    "print(outliers)"
   ]
  },
  {
   "cell_type": "code",
   "execution_count": null,
   "id": "extraordinary-craft",
   "metadata": {},
   "outputs": [],
   "source": [
    "(lower_threshold, upper_threshold)"
   ]
  },
  {
   "cell_type": "markdown",
   "id": "threaded-proposal",
   "metadata": {},
   "source": [
    "Extract rows of data corresponding to the outliers."
   ]
  },
  {
   "cell_type": "code",
   "execution_count": null,
   "id": "lesbian-arbor",
   "metadata": {},
   "outputs": [],
   "source": [
    "Mammalia.loc[Mammalia[\"Overall MLE\"] > upper_threshold]"
   ]
  },
  {
   "cell_type": "markdown",
   "id": "built-status",
   "metadata": {},
   "source": [
    "# Exercises"
   ]
  },
  {
   "cell_type": "markdown",
   "id": "brave-columbus",
   "metadata": {},
   "source": [
    "1. Let's focus on birds in this data set. Make a subset of the data in which `TaxonClass == Aves` (Aves animals are mainly birds). Take the column `Overall MLE` of the data which contains birds life expectancy and name it `birds_lifexp`. Since this column has some NaN values use `birds_lifexp = birds_lifexp.dropna()` to drop them. Make a histogram of the life expectancy of birds."
   ]
  },
  {
   "cell_type": "code",
   "execution_count": null,
   "id": "extra-display",
   "metadata": {},
   "outputs": [],
   "source": []
  },
  {
   "cell_type": "markdown",
   "id": "immediate-burton",
   "metadata": {},
   "source": [
    "2. Calculate the summary statistics for the birds life expectancy. That is, measurments of centre of the data (mean, mode) and spread of data (range, variance, standard deviation)."
   ]
  },
  {
   "cell_type": "code",
   "execution_count": null,
   "id": "encouraging-sensitivity",
   "metadata": {},
   "outputs": [],
   "source": []
  },
  {
   "cell_type": "markdown",
   "id": "covered-pencil",
   "metadata": {},
   "source": [
    "3. Make a boxplot of the variable and calculate the quartiles."
   ]
  },
  {
   "cell_type": "code",
   "execution_count": null,
   "id": "brutal-equivalent",
   "metadata": {},
   "outputs": [],
   "source": []
  },
  {
   "cell_type": "markdown",
   "id": "indirect-miracle",
   "metadata": {},
   "source": [
    "4. The boxplot shows some outliers. Find what birds are outliers in terms of their life expectancy."
   ]
  },
  {
   "cell_type": "code",
   "execution_count": null,
   "id": "numeric-responsibility",
   "metadata": {},
   "outputs": [],
   "source": []
  },
  {
   "cell_type": "markdown",
   "id": "other-front",
   "metadata": {},
   "source": [
    "5. Write a paragraph and compare the life expectancy of mammals and birds."
   ]
  },
  {
   "cell_type": "markdown",
   "id": "baking-arthur",
   "metadata": {},
   "source": []
  }
 ],
 "metadata": {
  "kernelspec": {
   "display_name": "Python 3 (ipykernel)",
   "language": "python",
   "name": "python3"
  },
  "language_info": {
   "codemirror_mode": {
    "name": "ipython",
    "version": 3
   },
   "file_extension": ".py",
   "mimetype": "text/x-python",
   "name": "python",
   "nbconvert_exporter": "python",
   "pygments_lexer": "ipython3",
   "version": "3.9.2"
  }
 },
 "nbformat": 4,
 "nbformat_minor": 5
}
