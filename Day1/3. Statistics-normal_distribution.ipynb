{
 "cells": [
  {
   "cell_type": "markdown",
   "id": "welcome-preservation",
   "metadata": {},
   "source": [
    "# Fundamentals of Statistics"
   ]
  },
  {
   "cell_type": "markdown",
   "id": "split-duncan",
   "metadata": {},
   "source": [
    "## Data\n",
    "\n",
    "The dataset we use here is taken from [OECD](https://www.oecd.org/pisa/). PISA is the OECD's Programme for International Student Assessment. PISA measures 15-year-olds’ ability to use their reading, mathematics and science knowledge and skills to meet real-life challenges. We start by importing the required modules/packages/libraries. Then we read in the data which is a text file. We take a subset of the data where `\"Region\" == 82620` which indicates the data for Scotland. "
   ]
  },
  {
   "cell_type": "code",
   "execution_count": null,
   "id": "assured-hughes",
   "metadata": {},
   "outputs": [],
   "source": [
    "import pandas as pd\n",
    "import numpy as np\n",
    "import matplotlib.pyplot as plt\n",
    "import seaborn as sns"
   ]
  },
  {
   "cell_type": "code",
   "execution_count": null,
   "id": "automotive-valentine",
   "metadata": {},
   "outputs": [],
   "source": [
    "# Read a comma-separated values (csv) file into DataFrame\n",
    "PISA = pd.read_csv(\"Data/PISA_2018_UK.txt\", sep = \" \", encoding='latin-1')\n",
    "PISA_Scotland = PISA.loc[PISA[\"Region\"] == 82620]\n",
    "PISA_Scotland"
   ]
  },
  {
   "cell_type": "markdown",
   "id": "sweet-acquisition",
   "metadata": {},
   "source": [
    "## Normal distribution"
   ]
  },
  {
   "cell_type": "markdown",
   "id": "injured-breath",
   "metadata": {},
   "source": [
    "We take the column \"PV1MATH\" which includes the students Maths scores and give this vector of data the name \"math\". A histogram of this variable is made below to see the distribution of the maths scores."
   ]
  },
  {
   "cell_type": "code",
   "execution_count": null,
   "id": "natural-receptor",
   "metadata": {
    "scrolled": true
   },
   "outputs": [],
   "source": [
    "math = PISA_Scotland[\"PV1MATH\"]\n",
    "plt.hist(math, bins=20)\n",
    "plt.title(\"Distribution of Maths scores in Scotland in 2018\")\n",
    "plt.xlabel(\"Maths scores\")\n",
    "plt.ylabel(\"Counts\")\n",
    "plt.show()"
   ]
  },
  {
   "cell_type": "markdown",
   "id": "thousand-queensland",
   "metadata": {},
   "source": [
    "We use the relevant numpy functions to calculate mean and standard deviation of this variable."
   ]
  },
  {
   "cell_type": "code",
   "execution_count": null,
   "id": "julian-comment",
   "metadata": {},
   "outputs": [],
   "source": [
    "mu = np.mean(math)\n",
    "print(\"mean= \", mu)\n",
    "std = np.std(math, ddof=1)\n",
    "print(\"Standard deviation = \", std)\n",
    "math.describe()"
   ]
  },
  {
   "cell_type": "markdown",
   "id": "shaped-hierarchy",
   "metadata": {},
   "source": [
    "The histogram shows that maths scores are distributed very similarly to a Normal distribution. If make such an assmption about the `math` variable, then any probabilities can be calculated. For this purpose, we import the `norm` function from python's `scipy.stats` and use `cdf` and `ppf` functions. \n",
    "\n",
    "What is the probability that students' maths scores are smaller than or equal to 492? or $ P(X \\leqslant 492 ) = ?$ (if X is a random variable indicating the Maths scores)"
   ]
  },
  {
   "cell_type": "code",
   "execution_count": null,
   "id": "sexual-isaac",
   "metadata": {},
   "outputs": [],
   "source": [
    "from scipy.stats import norm\n",
    "norm.cdf(492, mu, std)"
   ]
  },
  {
   "cell_type": "markdown",
   "id": "weekly-tracker",
   "metadata": {},
   "source": [
    "What is the probability that students' maths scores are smaller than or equal to 400? or $ P(X \\leqslant 400 ) = ? $"
   ]
  },
  {
   "cell_type": "code",
   "execution_count": null,
   "id": "radical-pointer",
   "metadata": {},
   "outputs": [],
   "source": [
    "norm.cdf(400, mu, std)"
   ]
  },
  {
   "cell_type": "markdown",
   "id": "fabulous-thumb",
   "metadata": {},
   "source": [
    "What is the probability that students' maths scores are larger than or equal to 400? or $ P(X \\geqslant 400 ) = ? $"
   ]
  },
  {
   "cell_type": "code",
   "execution_count": null,
   "id": "pressed-photograph",
   "metadata": {},
   "outputs": [],
   "source": [
    "1 - norm.cdf(400, mu, std)"
   ]
  },
  {
   "cell_type": "markdown",
   "id": "quiet-closing",
   "metadata": {},
   "source": [
    "What is the probability that a student's maths score is between 400 and 500? or $ P(400 \\leqslant X \\leqslant 500 ) = ? $"
   ]
  },
  {
   "cell_type": "code",
   "execution_count": null,
   "id": "forced-microphone",
   "metadata": {},
   "outputs": [],
   "source": [
    "norm.cdf(500, mu, std) - norm.cdf(400, mu, std)"
   ]
  },
  {
   "cell_type": "markdown",
   "id": "vocational-fantasy",
   "metadata": {},
   "source": [
    "What is the highest maths score that only $10\\%$ of students could achieve? or $ P( X \\leqslant ? ) = 0.9 $"
   ]
  },
  {
   "cell_type": "code",
   "execution_count": null,
   "id": "equivalent-element",
   "metadata": {},
   "outputs": [],
   "source": [
    "norm.ppf(0.9, mu, std)"
   ]
  },
  {
   "cell_type": "markdown",
   "id": "focused-iceland",
   "metadata": {},
   "source": [
    "What is the maths score that $90\\%$ of students have got? or $ P( X \\leqslant ? ) = 0.1 $"
   ]
  },
  {
   "cell_type": "code",
   "execution_count": null,
   "id": "approved-retreat",
   "metadata": {},
   "outputs": [],
   "source": [
    "norm.ppf((1-0.9), mu, std)"
   ]
  },
  {
   "cell_type": "markdown",
   "id": "solar-benjamin",
   "metadata": {},
   "source": [
    "# Exercises"
   ]
  },
  {
   "cell_type": "markdown",
   "id": "polished-divorce",
   "metadata": {},
   "source": [
    "1. The dataset includes Maths, Reading, and Scince scores; let's look at the reading scores now. Make a histogram of the reading scores (PV1READ) of students in Scotland. Do you think the distribution of the scores is Normal?"
   ]
  },
  {
   "cell_type": "code",
   "execution_count": null,
   "id": "blessed-advertiser",
   "metadata": {},
   "outputs": [],
   "source": []
  },
  {
   "cell_type": "markdown",
   "id": "integral-standard",
   "metadata": {},
   "source": [
    "2. Find the summary statistics of the science scores."
   ]
  },
  {
   "cell_type": "code",
   "execution_count": null,
   "id": "acting-thickness",
   "metadata": {},
   "outputs": [],
   "source": []
  },
  {
   "cell_type": "markdown",
   "id": "fresh-oklahoma",
   "metadata": {},
   "source": [
    "3. Assume the Science variable is normally distributed. Calculate the followings:\n",
    "- The probability of a student getting at least 600 in the test.\n",
    "- The probability getting less than or equal to 421.\n",
    "- What is the highest score that 75% of the students achieve?"
   ]
  },
  {
   "cell_type": "code",
   "execution_count": null,
   "id": "becoming-mailman",
   "metadata": {},
   "outputs": [],
   "source": []
  },
  {
   "cell_type": "markdown",
   "id": "possible-cocktail",
   "metadata": {},
   "source": [
    "4. Make a boxplot with both Maths and Reading scores and compare them."
   ]
  },
  {
   "cell_type": "code",
   "execution_count": null,
   "id": "statewide-abraham",
   "metadata": {},
   "outputs": [],
   "source": []
  },
  {
   "cell_type": "markdown",
   "id": "continuing-recipe",
   "metadata": {},
   "source": []
  }
 ],
 "metadata": {
  "kernelspec": {
   "display_name": "Python 3 (ipykernel)",
   "language": "python",
   "name": "python3"
  },
  "language_info": {
   "codemirror_mode": {
    "name": "ipython",
    "version": 3
   },
   "file_extension": ".py",
   "mimetype": "text/x-python",
   "name": "python",
   "nbconvert_exporter": "python",
   "pygments_lexer": "ipython3",
   "version": "3.9.2"
  }
 },
 "nbformat": 4,
 "nbformat_minor": 5
}
